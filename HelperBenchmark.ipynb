{
 "cells": [
  {
   "cell_type": "code",
   "execution_count": 263,
   "id": "a204aa47-b107-42f4-aed9-006a362bb830",
   "metadata": {},
   "outputs": [],
   "source": [
    "import lithops\n",
    "import laspy.copc as lasp\n",
    "import time\n",
    "from concurrent.futures import ThreadPoolExecutor\n",
    "from itertools import repeat"
   ]
  },
  {
   "cell_type": "code",
   "execution_count": 264,
   "id": "d7f1f61b-fe0c-46d1-935a-f4556bd5d97b",
   "metadata": {},
   "outputs": [],
   "source": [
    "from cloudAPI import CopcHelper"
   ]
  },
  {
   "cell_type": "code",
   "execution_count": 265,
   "id": "483c7ffc",
   "metadata": {},
   "outputs": [],
   "source": [
    "bucket= 'lithops-testing3'\n",
    "filekey= 'autzen-classified.copc.laz'\n",
    "filename= 'lidar.copc.laz'"
   ]
  },
  {
   "cell_type": "code",
   "execution_count": 266,
   "id": "1eb216ca",
   "metadata": {},
   "outputs": [],
   "source": [
    "def download(helper, key):\n",
    "    helper.load_points(key)"
   ]
  },
  {
   "cell_type": "code",
   "execution_count": 267,
   "id": "dfca0adc-744f-4bd6-ac9b-11781d43aa89",
   "metadata": {},
   "outputs": [],
   "source": [
    "def helper_test(aux, ibm_cos):\n",
    "    clock0 = time.time()\n",
    "    \n",
    "    key = lasp.VoxelKey()\n",
    "    key.x = 1\n",
    "    key.y = 2\n",
    "    key.z = 0\n",
    "    key.level = 2\n",
    "    \n",
    "    #Download header and octree\n",
    "    helper = CopcHelper(bucket, filekey, filename, ibm_cos)\n",
    "    helper.load_header()\n",
    "    helper.load_rootpage()\n",
    "    \n",
    "    clock1 = time.time()\n",
    "    \n",
    "    #Download and read points of a level 1 node\n",
    "    helper.load_points(key)\n",
    "    points = helper.get_points(key)\n",
    "    \n",
    "    clock2 = time.time()\n",
    "    \n",
    "    #Find neighbours of a level 1 node\n",
    "    neighbours = helper.get_smallest_neighbours(key)\n",
    "    \n",
    "    clock3 = time.time()\n",
    "    \n",
    "    helper.multiple_points_download(neighbours)\n",
    "    \n",
    "    #Download and load points of neighbours\n",
    "    neighbour_points = []\n",
    "    for neighbour in neighbours:\n",
    "        neighbour_points.append(helper.get_points(neighbour))\n",
    "    \n",
    "    clock4 = time.time()\n",
    "\n",
    "    return clock1 - clock0, clock2 - clock1, clock3 - clock2, clock4 - clock3, key, str(helper.get_level_nodes(2))"
   ]
  },
  {
   "cell_type": "code",
   "execution_count": 268,
   "id": "c45c2e21-0511-4845-8249-7f7247c918cf",
   "metadata": {},
   "outputs": [
    {
     "name": "stderr",
     "output_type": "stream",
     "text": [
      "2022-07-13 12:02:44,280 [INFO] lithops.config -- Lithops v2.6.0\n",
      "2022-07-13 12:02:44,284 [INFO] lithops.storage.backends.localhost.localhost -- Localhost storage client created\n",
      "2022-07-13 12:02:44,284 [INFO] lithops.localhost.localhost -- Localhost compute client created\n",
      "2022-07-13 12:02:44,285 [INFO] lithops.invokers -- ExecutorID 0b75b8-39 | JobID A000 - Selected Runtime: python \n",
      "2022-07-13 12:02:44,319 [INFO] lithops.invokers -- ExecutorID 0b75b8-39 | JobID A000 - Starting function invocation: helper_test() - Total: 1 activations\n",
      "2022-07-13 12:02:44,353 [INFO] lithops.invokers -- ExecutorID 0b75b8-39 | JobID A000 - View execution logs at /tmp/lithops/logs/0b75b8-39-A000.log\n",
      "2022-07-13 12:02:45,273 [INFO] lithops.wait -- ExecutorID 0b75b8-39 - Getting results from 1 function activations\n"
     ]
    },
    {
     "data": {
      "application/vnd.jupyter.widget-view+json": {
       "model_id": "be596e2db52a49a2a5028eb88d669c4b",
       "version_major": 2,
       "version_minor": 0
      },
      "text/plain": [
       "    0%|          | 0/1  "
      ]
     },
     "metadata": {},
     "output_type": "display_data"
    },
    {
     "name": "stderr",
     "output_type": "stream",
     "text": [
      "2022-07-13 12:02:50,120 [INFO] lithops.executors -- ExecutorID 0b75b8-39 - Cleaning temporary data\n"
     ]
    }
   ],
   "source": [
    "if __name__ == \"__main__\":\n",
    "    fexec = lithops.LocalhostExecutor()\n",
    "    fexec.call_async(helper_test, 0)\n",
    "    results = fexec.get_result()"
   ]
  },
  {
   "cell_type": "code",
   "execution_count": 269,
   "id": "ed60b1e5-b831-433c-9d6d-844fd792f538",
   "metadata": {},
   "outputs": [
    {
     "name": "stdout",
     "output_type": "stream",
     "text": [
      "EXECUTION TIMES OF KEY  VoxelKey(level=2, x=1, y=2, z=0)\n",
      "Download header and octree:  1.0941524505615234\n",
      "Download and read points of a level 2 node:  0.5279037952423096\n",
      "Find neighbours of a level 2 node:  0.00512242317199707\n",
      "Download and read points of neighbours:  2.099402904510498\n",
      "Total time:  3.726581573486328\n"
     ]
    }
   ],
   "source": [
    "    print(\"EXECUTION TIMES OF KEY \", results[4])\n",
    "    print(\"Download header and octree: \", results[0])\n",
    "    print(\"Download and read points of a level 2 node: \", results[1])\n",
    "    print(\"Find neighbours of a level 2 node: \", results[2])\n",
    "    print(\"Download and read points of neighbours: \", results[3])\n",
    "    print(\"Total time: \", results[0] + results[1] + results[2] + results[3])"
   ]
  },
  {
   "cell_type": "code",
   "execution_count": 270,
   "id": "693c8623",
   "metadata": {},
   "outputs": [
    {
     "name": "stdout",
     "output_type": "stream",
     "text": [
      "All level 2 keys:  [Entry(key=VoxelKey(level=2, x=0, y=0, z=0), offset=77296609, byte_size=425925, point_count=40968, Entry(key=VoxelKey(level=2, x=1, y=0, z=0), offset=78079083, byte_size=527901, point_count=51803, Entry(key=VoxelKey(level=2, x=0, y=1, z=0), offset=78606984, byte_size=383754, point_count=37540, Entry(key=VoxelKey(level=2, x=1, y=1, z=0), offset=78990738, byte_size=471950, point_count=45410, Entry(key=VoxelKey(level=2, x=2, y=0, z=0), offset=76873679, byte_size=422930, point_count=39588, Entry(key=VoxelKey(level=2, x=2, y=1, z=0), offset=77722534, byte_size=356549, point_count=34887, Entry(key=VoxelKey(level=2, x=0, y=2, z=0), offset=67107560, byte_size=298243, point_count=27728, Entry(key=VoxelKey(level=2, x=1, y=2, z=0), offset=68502824, byte_size=246527, point_count=22707, Entry(key=VoxelKey(level=2, x=0, y=3, z=0), offset=70950773, byte_size=438369, point_count=41265, Entry(key=VoxelKey(level=2, x=1, y=3, z=0), offset=72250329, byte_size=322544, point_count=30194, Entry(key=VoxelKey(level=2, x=2, y=2, z=0), offset=73547939, byte_size=385887, point_count=37032, Entry(key=VoxelKey(level=2, x=2, y=3, z=0), offset=74184763, byte_size=388090, point_count=37455]\n"
     ]
    }
   ],
   "source": [
    "    print(\"All level 2 keys: \", results[5])"
   ]
  }
 ],
 "metadata": {
  "kernelspec": {
   "display_name": "Python 3.9.13 ('geospatial')",
   "language": "python",
   "name": "python3"
  },
  "language_info": {
   "codemirror_mode": {
    "name": "ipython",
    "version": 3
   },
   "file_extension": ".py",
   "mimetype": "text/x-python",
   "name": "python",
   "nbconvert_exporter": "python",
   "pygments_lexer": "ipython3",
   "version": "3.9.13"
  },
  "vscode": {
   "interpreter": {
    "hash": "835154bf921fc33051315c23c74a897a022d5451f948f99cdcb5821247e9b1ba"
   }
  }
 },
 "nbformat": 4,
 "nbformat_minor": 5
}
