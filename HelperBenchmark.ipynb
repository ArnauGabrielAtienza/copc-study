{
 "cells": [
  {
   "cell_type": "code",
   "execution_count": 1,
   "id": "a204aa47-b107-42f4-aed9-006a362bb830",
   "metadata": {},
   "outputs": [],
   "source": [
    "import lithops\n",
    "import laspy.copc as lasp\n",
    "import time\n",
    "import pandas as pd\n",
    "import numpy as np"
   ]
  },
  {
   "cell_type": "code",
   "execution_count": 2,
   "id": "d7f1f61b-fe0c-46d1-935a-f4556bd5d97b",
   "metadata": {},
   "outputs": [],
   "source": [
    "from cloudAPI import CopcHelper"
   ]
  },
  {
   "cell_type": "code",
   "execution_count": 3,
   "id": "483c7ffc",
   "metadata": {},
   "outputs": [],
   "source": [
    "bucket= 'lithops-testing3'\n",
    "filekey= 'autzen-classified.copc.laz'\n",
    "filename= 'lidar.copc.laz'"
   ]
  },
  {
   "cell_type": "code",
   "execution_count": 4,
   "id": "dfca0adc-744f-4bd6-ac9b-11781d43aa89",
   "metadata": {},
   "outputs": [],
   "source": [
    "def helper_test(aux, ibm_cos):\n",
    "    clock0 = time.time()\n",
    "    \n",
    "    key = lasp.VoxelKey()\n",
    "    key.x = 1\n",
    "    key.y = 2\n",
    "    key.z = 0\n",
    "    key.level = 2\n",
    "    \n",
    "    #Download header and octree\n",
    "    helper = CopcHelper(bucket, filekey, filename, ibm_cos)\n",
    "    helper.load_header()\n",
    "    helper.load_rootpage()\n",
    "    \n",
    "    clock1 = time.time()\n",
    "    \n",
    "    #Download and read points of a level 1 node\n",
    "    helper.load_points(key)\n",
    "    points = helper.get_points(key)\n",
    "    \n",
    "    clock2 = time.time()\n",
    "    \n",
    "    #Find neighbours of a level 1 node\n",
    "    neighbours = helper.get_smallest_neighbours(key)\n",
    "    \n",
    "    clock3 = time.time()\n",
    "    \n",
    "    #Download and load points of neighbours\n",
    "    neighbour_points = []\n",
    "    for neighbour in neighbours:\n",
    "        helper.load_points(neighbour)\n",
    "        neighbour_points.append(helper.get_points(neighbour))\n",
    "    \n",
    "    clock4 = time.time()\n",
    "\n",
    "    return clock1 - clock0, clock2 - clock1, clock3 - clock2, clock4 - clock3, key"
   ]
  },
  {
   "cell_type": "code",
   "execution_count": 5,
   "id": "c45c2e21-0511-4845-8249-7f7247c918cf",
   "metadata": {},
   "outputs": [
    {
     "name": "stderr",
     "output_type": "stream",
     "text": [
      "2022-07-13 09:19:54,430 [INFO] lithops.config -- Lithops v2.6.0\n",
      "2022-07-13 09:19:54,433 [INFO] lithops.storage.backends.localhost.localhost -- Localhost storage client created\n",
      "2022-07-13 09:19:54,433 [INFO] lithops.localhost.localhost -- Localhost compute client created\n",
      "2022-07-13 09:19:54,434 [INFO] lithops.invokers -- ExecutorID 1074e6-0 | JobID A000 - Selected Runtime: python \n",
      "2022-07-13 09:19:54,517 [INFO] lithops.invokers -- ExecutorID 1074e6-0 | JobID A000 - Starting function invocation: helper_test() - Total: 1 activations\n",
      "2022-07-13 09:19:54,550 [INFO] lithops.invokers -- ExecutorID 1074e6-0 | JobID A000 - View execution logs at /tmp/lithops/logs/1074e6-0-A000.log\n",
      "2022-07-13 09:19:55,400 [INFO] lithops.wait -- ExecutorID 1074e6-0 - Getting results from 1 function activations\n"
     ]
    },
    {
     "data": {
      "application/vnd.jupyter.widget-view+json": {
       "model_id": "6b6c851fdccb4be4bb9eb86ec3a67721",
       "version_major": 2,
       "version_minor": 0
      },
      "text/plain": [
       "    0%|          | 0/1  "
      ]
     },
     "metadata": {},
     "output_type": "display_data"
    },
    {
     "name": "stderr",
     "output_type": "stream",
     "text": [
      "2022-07-13 09:20:03,591 [INFO] lithops.executors -- ExecutorID 1074e6-0 - Cleaning temporary data\n"
     ]
    }
   ],
   "source": [
    "if __name__ == \"__main__\":\n",
    "    fexec = lithops.LocalhostExecutor()\n",
    "    fexec.call_async(helper_test, 0)\n",
    "    results = fexec.get_result()"
   ]
  },
  {
   "cell_type": "code",
   "execution_count": 6,
   "id": "ed60b1e5-b831-433c-9d6d-844fd792f538",
   "metadata": {},
   "outputs": [
    {
     "name": "stdout",
     "output_type": "stream",
     "text": [
      "EXECUTION TIMES OF KEY  VoxelKey(level=2, x=1, y=2, z=0)\n",
      "Download header and octree:  0.7880523204803467\n",
      "Download and read points of a level 1 node:  0.5349459648132324\n",
      "Find neighbours of a level 1 node:  0.005063056945800781\n",
      "Download and read points of neighbours:  5.575808525085449\n",
      "Total time:  6.903869867324829\n"
     ]
    }
   ],
   "source": [
    "    print(\"EXECUTION TIMES OF KEY \", results[4])\n",
    "    print(\"Download header and octree: \", results[0])\n",
    "    print(\"Download and read points of a level 1 node: \", results[1])\n",
    "    print(\"Find neighbours of a level 1 node: \", results[2])\n",
    "    print(\"Download and read points of neighbours: \", results[3])\n",
    "    print(\"Total time: \", results[0] + results[1] + results[2] + results[3])"
   ]
  }
 ],
 "metadata": {
  "kernelspec": {
   "display_name": "Python 3.9.13 ('geospatial')",
   "language": "python",
   "name": "python3"
  },
  "language_info": {
   "codemirror_mode": {
    "name": "ipython",
    "version": 3
   },
   "file_extension": ".py",
   "mimetype": "text/x-python",
   "name": "python",
   "nbconvert_exporter": "python",
   "pygments_lexer": "ipython3",
   "version": "3.9.13"
  },
  "vscode": {
   "interpreter": {
    "hash": "835154bf921fc33051315c23c74a897a022d5451f948f99cdcb5821247e9b1ba"
   }
  }
 },
 "nbformat": 4,
 "nbformat_minor": 5
}
