{
 "cells": [
  {
   "cell_type": "code",
   "execution_count": 9,
   "id": "a204aa47-b107-42f4-aed9-006a362bb830",
   "metadata": {},
   "outputs": [],
   "source": [
    "import lithops\n",
    "import laspy.copc as lasp\n",
    "import time"
   ]
  },
  {
   "cell_type": "code",
   "execution_count": 10,
   "id": "d7f1f61b-fe0c-46d1-935a-f4556bd5d97b",
   "metadata": {},
   "outputs": [],
   "source": [
    "from cloudAPI import CopcHelper"
   ]
  },
  {
   "cell_type": "code",
   "execution_count": 11,
   "id": "483c7ffc",
   "metadata": {},
   "outputs": [],
   "source": [
    "bucket= 'lithops-testing3'\n",
    "filekey= 'test.copc.laz'\n",
    "filename= 'lidar.copc.laz'"
   ]
  },
  {
   "cell_type": "code",
   "execution_count": 12,
   "id": "dfca0adc-744f-4bd6-ac9b-11781d43aa89",
   "metadata": {},
   "outputs": [],
   "source": [
    "def helper_test(aux, ibm_cos):\n",
    "    clock0 = time.time()\n",
    "    \n",
    "    #Download header and octree\n",
    "    helper = CopcHelper(bucket, filekey, filename, ibm_cos)\n",
    "    helper.load_header()\n",
    "    helper.load_rootpage()\n",
    "    \n",
    "    clock1 = time.time()\n",
    "    \n",
    "    #Get random key\n",
    "    key = helper.get_level_keys(4)[0]\n",
    "    \n",
    "    clock2 = time.time()\n",
    "    \n",
    "    #Download and read points of a level 0 node\n",
    "    helper.load_points(helper.get_node(key))\n",
    "    points = helper.get_points([helper.get_node(key)])\n",
    "    \n",
    "    clock3 = time.time()\n",
    "    \n",
    "    #Find worker balance\n",
    "    balance = helper.point_balance(200_000)\n",
    "    \n",
    "    clock4 = time.time()\n",
    "    \n",
    "    #Download nodes assigned to one worker\n",
    "    helper.multiple_points_download(balance[0])\n",
    "    \n",
    "    clock5 = time.time()\n",
    "\n",
    "    return clock1 - clock0, clock3 - clock2, str(key), clock4 - clock3, clock5 - clock4, str(balance[0])"
   ]
  },
  {
   "cell_type": "code",
   "execution_count": 13,
   "id": "c45c2e21-0511-4845-8249-7f7247c918cf",
   "metadata": {},
   "outputs": [
    {
     "name": "stderr",
     "output_type": "stream",
     "text": [
      "2022-07-19 11:14:57,149 [INFO] lithops.config -- Lithops v2.6.0\n",
      "2022-07-19 11:14:57,153 [INFO] lithops.storage.backends.localhost.localhost -- Localhost storage client created\n",
      "2022-07-19 11:14:57,154 [INFO] lithops.localhost.localhost -- Localhost compute client created\n",
      "2022-07-19 11:14:57,154 [INFO] lithops.invokers -- ExecutorID 5f2110-1 | JobID A000 - Selected Runtime: python \n",
      "2022-07-19 11:14:57,159 [INFO] lithops.invokers -- ExecutorID 5f2110-1 | JobID A000 - Starting function invocation: helper_test() - Total: 1 activations\n",
      "2022-07-19 11:14:57,195 [INFO] lithops.invokers -- ExecutorID 5f2110-1 | JobID A000 - View execution logs at /tmp/lithops/logs/5f2110-1-A000.log\n",
      "2022-07-19 11:14:58,151 [INFO] lithops.wait -- ExecutorID 5f2110-1 - Getting results from 1 function activations\n"
     ]
    },
    {
     "data": {
      "application/vnd.jupyter.widget-view+json": {
       "model_id": "5e7ba114626e4bbcbb1456168c7e5165",
       "version_major": 2,
       "version_minor": 0
      },
      "text/plain": [
       "    0%|          | 0/1  "
      ]
     },
     "metadata": {},
     "output_type": "display_data"
    },
    {
     "name": "stderr",
     "output_type": "stream",
     "text": [
      "2022-07-19 11:15:02,984 [INFO] lithops.executors -- ExecutorID 5f2110-1 - Cleaning temporary data\n"
     ]
    }
   ],
   "source": [
    "if __name__ == \"__main__\":\n",
    "    fexec = lithops.LocalhostExecutor()\n",
    "    fexec.call_async(helper_test, 0)\n",
    "    results = fexec.get_result()"
   ]
  },
  {
   "cell_type": "code",
   "execution_count": 14,
   "id": "ed60b1e5-b831-433c-9d6d-844fd792f538",
   "metadata": {},
   "outputs": [
    {
     "name": "stdout",
     "output_type": "stream",
     "text": [
      "EXECUTION TIMES OF KEY  VoxelKey(level=4, x=0, y=2, z=6) seconds\n",
      "Download header and octree:  1.2789442539215088 seconds\n",
      "Download and read points of a level 4 node:  0.678175687789917 seconds\n"
     ]
    }
   ],
   "source": [
    "    print(\"EXECUTION TIMES OF KEY \", results[2], \"seconds\")\n",
    "    print(\"Download header and octree: \", results[0], \"seconds\")\n",
    "    print(\"Download and read points of a level 4 node: \", results[1], \"seconds\")"
   ]
  },
  {
   "cell_type": "code",
   "execution_count": 15,
   "id": "693c8623",
   "metadata": {},
   "outputs": [
    {
     "name": "stdout",
     "output_type": "stream",
     "text": [
      "Time to know the nodes assigned to each worker:  0.0009152889251708984 seconds\n",
      "Time to download the worker nodes:  1.6996371746063232 seconds\n",
      "Downloaded nodes by that worker:  [Entry(key=VoxelKey(level=0, x=0, y=0, z=0), offset=56751611, byte_size=477852, point_count=39213, Entry(key=VoxelKey(level=1, x=0, y=0, z=0), offset=52819705, byte_size=872057, point_count=98085, Entry(key=VoxelKey(level=2, x=0, y=0, z=1), offset=41154681, byte_size=423230, point_count=52333, Entry(key=VoxelKey(level=3, x=0, y=0, z=2), offset=22896782, byte_size=131370, point_count=21876] seconds\n"
     ]
    }
   ],
   "source": [
    "    print(\"Time to know the nodes assigned to each worker: \", results[3], \"seconds\")\n",
    "    print(\"Time to download the worker nodes: \", results[4], \"seconds\")    \n",
    "    print(\"Downloaded nodes by that worker: \", results[5], \"seconds\")"
   ]
  },
  {
   "cell_type": "code",
   "execution_count": 16,
   "id": "30f6265d",
   "metadata": {},
   "outputs": [
    {
     "name": "stdout",
     "output_type": "stream",
     "text": [
      "Total time a worker would need to start operating:  2.978581428527832 seconds (buffering still needs to be implemented for accurate results)\n"
     ]
    }
   ],
   "source": [
    "    print(\"Total time a worker would need to start operating: \", results[0] + results[4], \"seconds (buffering still needs to be implemented for accurate results)\")"
   ]
  }
 ],
 "metadata": {
  "kernelspec": {
   "display_name": "Python 3.9.13 ('geospatial')",
   "language": "python",
   "name": "python3"
  },
  "language_info": {
   "codemirror_mode": {
    "name": "ipython",
    "version": 3
   },
   "file_extension": ".py",
   "mimetype": "text/x-python",
   "name": "python",
   "nbconvert_exporter": "python",
   "pygments_lexer": "ipython3",
   "version": "3.9.13"
  },
  "vscode": {
   "interpreter": {
    "hash": "835154bf921fc33051315c23c74a897a022d5451f948f99cdcb5821247e9b1ba"
   }
  }
 },
 "nbformat": 4,
 "nbformat_minor": 5
}
